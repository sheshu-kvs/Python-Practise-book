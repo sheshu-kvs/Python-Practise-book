{
 "cells": [
  {
   "cell_type": "code",
   "execution_count": 2,
   "id": "ff62d59f-a78d-4bd0-a87b-30795131e33d",
   "metadata": {},
   "outputs": [],
   "source": [
    "# Tuple: is  a collection  of elements ,which can be the immutable, It store the elements in order ,allow duplicates \n",
    "# A Tuple can be decalred as the : () "
   ]
  },
  {
   "cell_type": "code",
   "execution_count": 5,
   "id": "05a54266-aa86-4026-8086-0e3e2d2b9377",
   "metadata": {},
   "outputs": [
    {
     "name": "stdout",
     "output_type": "stream",
     "text": [
      "(8, 7, 6, 6)\n"
     ]
    }
   ],
   "source": [
    "# example of the tuple\n",
    "val=(8,7,6,6)\n",
    "print(val)"
   ]
  },
  {
   "cell_type": "code",
   "execution_count": 6,
   "id": "710f85d2-1ef4-4df6-93ff-bea3824c808a",
   "metadata": {},
   "outputs": [
    {
     "name": "stdout",
     "output_type": "stream",
     "text": [
      "(4, 8, 9)\n"
     ]
    }
   ],
   "source": [
    "tup=4,8,9\n",
    "print(tup)"
   ]
  },
  {
   "cell_type": "code",
   "execution_count": 12,
   "id": "61d75e97-b55b-4161-8c2c-22ef1c7086aa",
   "metadata": {},
   "outputs": [
    {
     "name": "stdout",
     "output_type": "stream",
     "text": [
      "('S', 't', 'r', 'i', 'n', 'g')\n",
      "g\n"
     ]
    }
   ],
   "source": [
    "t=tuple('String')\n",
    "# converting each character as the String\n",
    "print(t)\n",
    "print(t[5])"
   ]
  },
  {
   "cell_type": "code",
   "execution_count": 19,
   "id": "a5ec8c09-3605-42b4-8771-25b435b26651",
   "metadata": {},
   "outputs": [
    {
     "name": "stdout",
     "output_type": "stream",
     "text": [
      "(3, 4)\n"
     ]
    },
    {
     "ename": "TypeError",
     "evalue": "'tuple' object does not support item assignment",
     "output_type": "error",
     "traceback": [
      "\u001b[31m---------------------------------------------------------------------------\u001b[39m",
      "\u001b[31mTypeError\u001b[39m                                 Traceback (most recent call last)",
      "\u001b[36mCell\u001b[39m\u001b[36m \u001b[39m\u001b[32mIn[19]\u001b[39m\u001b[32m, line 6\u001b[39m\n\u001b[32m      2\u001b[39m \u001b[38;5;28mprint\u001b[39m(n[\u001b[32m1\u001b[39m])\n\u001b[32m      5\u001b[39m \u001b[38;5;66;03m# Tuple is the immutable in the Nature\u001b[39;00m\n\u001b[32m----> \u001b[39m\u001b[32m6\u001b[39m \u001b[43mn\u001b[49m\u001b[43m[\u001b[49m\u001b[32;43m1\u001b[39;49m\u001b[43m]\u001b[49m=\u001b[32m2\u001b[39m\n\u001b[32m      7\u001b[39m \u001b[38;5;28mprint\u001b[39m(n)\n",
      "\u001b[31mTypeError\u001b[39m: 'tuple' object does not support item assignment"
     ]
    }
   ],
   "source": [
    "n=((1,2,23),(3,4))\n",
    "print(n[1])\n",
    "\n",
    "\n",
    "# Tuple is the immutable in the Nature\n",
    "n[1]=2\n",
    "print(n)"
   ]
  },
  {
   "cell_type": "code",
   "execution_count": 21,
   "id": "1f7f762e-125c-416c-b9fb-578bf9987559",
   "metadata": {},
   "outputs": [
    {
     "name": "stdout",
     "output_type": "stream",
     "text": [
      "(2, 1, 1, 'a', 'b', [1, 2, 34], True)\n",
      "[1, 2, 34]\n"
     ]
    }
   ],
   "source": [
    "n2=(2,1,1,'a','b',[1,2,34],True)\n",
    "print(n2)\n",
    "print(n2[5])\n"
   ]
  },
  {
   "cell_type": "code",
   "execution_count": 24,
   "id": "27c5892d-085b-41da-99ba-835997deb503",
   "metadata": {},
   "outputs": [
    {
     "name": "stdout",
     "output_type": "stream",
     "text": [
      "A Value: 10\n",
      "B Value: 5\n",
      "A Value: 5\n",
      "B Value: 10\n"
     ]
    }
   ],
   "source": [
    "# Swap Case\n",
    "\n",
    "a,b=10,5\n",
    "print(\"A Value:\",a)\n",
    "print(\"B Value:\",b)\n",
    "b,a=a,b\n",
    "print(\"A Value:\",a)\n",
    "print(\"B Value:\",b)"
   ]
  },
  {
   "cell_type": "code",
   "execution_count": 28,
   "id": "2d5e9556-b5d6-4dd3-a6a2-937af7832d68",
   "metadata": {},
   "outputs": [
    {
     "name": "stdout",
     "output_type": "stream",
     "text": [
      "1\n",
      "22\n",
      "3\n"
     ]
    }
   ],
   "source": [
    "t1=(1,22,3)\n",
    "a,b,c=t1\n",
    "print(a)\n",
    "print(b)\n",
    "print(c)"
   ]
  },
  {
   "cell_type": "code",
   "execution_count": 34,
   "id": "c3393a8f-ef90-4aeb-a85c-abdff391bb10",
   "metadata": {},
   "outputs": [
    {
     "name": "stdout",
     "output_type": "stream",
     "text": [
      "a=1,b=2,c=3\n",
      "a=4,b=5,c=6\n",
      "a=8,b=9,c=10\n"
     ]
    }
   ],
   "source": [
    "# in the tuple we can use the list \n",
    "val=[(1,2,3),(4,5,6),(8,9,10)]\n",
    "# in this we need to keep the same size of the value for each tuple....\n",
    "\n",
    "for a,b,c in val:\n",
    "    print(f\"a={a},b={b},c={c}\")\n",
    "    "
   ]
  },
  {
   "cell_type": "code",
   "execution_count": 37,
   "id": "1b9c0de7-3049-47ce-9162-4e9755bbbc2a",
   "metadata": {},
   "outputs": [
    {
     "name": "stdout",
     "output_type": "stream",
     "text": [
      "3\n",
      "2\n",
      "1\n"
     ]
    }
   ],
   "source": [
    "# Methods of the tuple....\n",
    "t=(1,22,33,4,4,4,5,6,6,7,8)\n",
    "print(t.count(4))\n",
    "print(t.count(6))\n",
    "print(t.count(1))"
   ]
  },
  {
   "cell_type": "code",
   "execution_count": null,
   "id": "8788960b-8624-4d2b-8a94-9ed3fea02eec",
   "metadata": {},
   "outputs": [],
   "source": []
  }
 ],
 "metadata": {
  "kernelspec": {
   "display_name": "Python 3 (ipykernel)",
   "language": "python",
   "name": "python3"
  },
  "language_info": {
   "codemirror_mode": {
    "name": "ipython",
    "version": 3
   },
   "file_extension": ".py",
   "mimetype": "text/x-python",
   "name": "python",
   "nbconvert_exporter": "python",
   "pygments_lexer": "ipython3",
   "version": "3.13.2"
  }
 },
 "nbformat": 4,
 "nbformat_minor": 5
}
