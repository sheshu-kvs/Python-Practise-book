{
 "cells": [
  {
   "cell_type": "code",
   "execution_count": 1,
   "id": "360d6d7d-9061-42fb-b282-657bf6fe3862",
   "metadata": {},
   "outputs": [],
   "source": [
    "# Pandas is the python library \n",
    "# use for the data cleaning and the fast analysis\n",
    "# pandas cleans the messy data, make it readble and the relavant\n",
    "# to install the pandas library we use the ->pip install  pandas\n"
   ]
  },
  {
   "cell_type": "code",
   "execution_count": 2,
   "id": "1308e325-99a7-464c-ae02-17a84ac43ba9",
   "metadata": {},
   "outputs": [
    {
     "name": "stdout",
     "output_type": "stream",
     "text": [
      "Requirement already satisfied: pandas in c:\\users\\gramavikasa\\appdata\\local\\programs\\python\\python313\\lib\\site-packages (2.3.0)\n",
      "Requirement already satisfied: numpy>=1.26.0 in c:\\users\\gramavikasa\\appdata\\local\\programs\\python\\python313\\lib\\site-packages (from pandas) (2.3.1)\n",
      "Requirement already satisfied: python-dateutil>=2.8.2 in c:\\users\\gramavikasa\\appdata\\local\\programs\\python\\python313\\lib\\site-packages (from pandas) (2.9.0.post0)\n",
      "Requirement already satisfied: pytz>=2020.1 in c:\\users\\gramavikasa\\appdata\\local\\programs\\python\\python313\\lib\\site-packages (from pandas) (2025.2)\n",
      "Requirement already satisfied: tzdata>=2022.7 in c:\\users\\gramavikasa\\appdata\\local\\programs\\python\\python313\\lib\\site-packages (from pandas) (2025.2)\n",
      "Requirement already satisfied: six>=1.5 in c:\\users\\gramavikasa\\appdata\\local\\programs\\python\\python313\\lib\\site-packages (from python-dateutil>=2.8.2->pandas) (1.17.0)\n",
      "Note: you may need to restart the kernel to use updated packages.\n"
     ]
    },
    {
     "name": "stderr",
     "output_type": "stream",
     "text": [
      "\n",
      "[notice] A new release of pip is available: 24.3.1 -> 25.1.1\n",
      "[notice] To update, run: python.exe -m pip install --upgrade pip\n"
     ]
    }
   ],
   "source": [
    "# pip install pandas"
   ]
  },
  {
   "cell_type": "code",
   "execution_count": 3,
   "id": "7503f46d-44fe-4e19-a8f7-b4718fa5edbc",
   "metadata": {},
   "outputs": [
    {
     "name": "stdout",
     "output_type": "stream",
     "text": [
      "0    4\n",
      "1    7\n",
      "2   -5\n",
      "3    3\n",
      "dtype: int64\n"
     ]
    }
   ],
   "source": [
    " # in the pandas we mainly use two datastructures ->Series and DataFrame\n",
    "\n",
    "# Series is the one dimensional array . \n",
    "# like it is a column in a table..\n",
    "import pandas as pd\n",
    "res=pd.Series([4,7,-5,3])\n",
    "print(res)"
   ]
  },
  {
   "cell_type": "code",
   "execution_count": 4,
   "id": "aa41775a-cacc-43ba-a2ef-f61c24fd5e2a",
   "metadata": {},
   "outputs": [],
   "source": [
    "# the left side column has the labels it has start from the 0,1,2,3,we can also access the values.."
   ]
  },
  {
   "cell_type": "code",
   "execution_count": 6,
   "id": "167b8a75-1db4-453a-8cc1-31395543b5fa",
   "metadata": {},
   "outputs": [
    {
     "name": "stdout",
     "output_type": "stream",
     "text": [
      "4\n"
     ]
    }
   ],
   "source": [
    "import pandas as pd\n",
    "res=pd.Series([4,7,-5,3])\n",
    "print(res[0])"
   ]
  },
  {
   "cell_type": "code",
   "execution_count": 16,
   "id": "a0347f5a-019a-4f9b-89b4-3a180d028a88",
   "metadata": {},
   "outputs": [
    {
     "name": "stdout",
     "output_type": "stream",
     "text": [
      "d    4\n",
      "c    7\n",
      "b   -5\n",
      "a    3\n",
      "dtype: int64\n",
      "3\n",
      "d    4\n",
      "c    7\n",
      "a    3\n",
      "dtype: int64\n"
     ]
    }
   ],
   "source": [
    "# we can also specify the our own labels using the index keyword\n",
    "import pandas as pd\n",
    "# res=pd.Series([4,7,-5,3],index=['a','b','c','d'])\n",
    "res=pd.Series([4,7,-5,3],index=['d','c','b','a'])\n",
    "print(res)\n",
    "print(res['a'])\n",
    "# print(res[['d','c','a']]) to call the multiple values of the index we can use the [[double square bracket]]\n"
   ]
  },
  {
   "cell_type": "code",
   "execution_count": 17,
   "id": "e7defdf6-fffd-40c3-8605-80595d0190db",
   "metadata": {},
   "outputs": [
    {
     "name": "stdout",
     "output_type": "stream",
     "text": [
      "d    16\n",
      "c    49\n",
      "b    25\n",
      "a     9\n",
      "dtype: int64\n"
     ]
    }
   ],
   "source": [
    "# we can also double the values using the (*)\n",
    "import pandas as pd\n",
    "# res=pd.Series([4,7,-5,3],index=['a','b','c','d'])\n",
    "res=pd.Series([4,7,-5,3],index=['d','c','b','a'])\n",
    "print(res**2)"
   ]
  },
  {
   "cell_type": "code",
   "execution_count": 25,
   "id": "df7b18df-f7cc-4917-a1ac-c47c12e794d5",
   "metadata": {},
   "outputs": [
    {
     "name": "stdout",
     "output_type": "stream",
     "text": [
      "d    4\n",
      "c    7\n",
      "b   -5\n",
      "a    3\n",
      "dtype: int64\n"
     ]
    }
   ],
   "source": [
    "#  a series it can be back to the dictionary using the \n",
    "# -> to_dict(we can bask to the sreies to the dictionary)\n",
    "import pandas as pd\n",
    "res=pd.Series([4,7,-5,3],index=['d','c','b','a'])\n",
    "print(res)"
   ]
  },
  {
   "cell_type": "code",
   "execution_count": 26,
   "id": "00a404b5-08b0-4116-a857-b56941e80e74",
   "metadata": {},
   "outputs": [
    {
     "name": "stdout",
     "output_type": "stream",
     "text": [
      "day1    420\n",
      "day2    450\n",
      "dtype: int64\n"
     ]
    }
   ],
   "source": [
    "# it is used to fetch the mentioned values\n",
    "import pandas as pd\n",
    "calories={'day1':420,'day2':450,'day3':500}\n",
    "res=pd.Series(calories, index=['day1','day2'])\n",
    "\n",
    "print(res)"
   ]
  },
  {
   "cell_type": "code",
   "execution_count": 28,
   "id": "5eca22d6-0c18-4059-8881-60cf04427d42",
   "metadata": {},
   "outputs": [
    {
     "name": "stdout",
     "output_type": "stream",
     "text": [
      "    state  year  pop\n",
      "0    Ohio  2000  1.4\n",
      "1    Ohio  2001  1.8\n",
      "2    Ohio  2002  1.2\n",
      "3  Nevada  2001  3.8\n",
      "4  Nevada  2002  3.9\n",
      "5  Nevada  2003  2.9\n"
     ]
    }
   ],
   "source": [
    "# DataFrame : is the 2 dimensional array, it is the collection of the columns.(it can be  both the rows \n",
    "# and columns indexex)\n",
    "import pandas as pd\n",
    "data={\"state\":[\"Ohio\",\"Ohio\",\"Ohio\",\"Nevada\",\"Nevada\",\"Nevada\"]\n",
    "     ,\"year\":[2000,2001,2002,2001,2002,2003],\n",
    "     \"pop\":[1.4,1.8,1.2,3.8,3.9,2.9]}\n",
    "res=pd.DataFrame(data)\n",
    "print(res)"
   ]
  },
  {
   "cell_type": "code",
   "execution_count": 29,
   "id": "5fcb864e-603b-4ff9-8c8a-1314637e0bb0",
   "metadata": {},
   "outputs": [
    {
     "name": "stdout",
     "output_type": "stream",
     "text": [
      "    state  year  pop\n",
      "0    Ohio  2000  1.4\n",
      "1    Ohio  2001  1.8\n",
      "2    Ohio  2002  1.2\n",
      "3  Nevada  2001  3.8\n",
      "4  Nevada  2002  3.9\n"
     ]
    }
   ],
   "source": [
    "#head(): in this the head method selects only first five rows of the data\n",
    "import pandas as pd\n",
    "data={\"state\":[\"Ohio\",\"Ohio\",\"Ohio\",\"Nevada\",\"Nevada\",\"Nevada\"]\n",
    "     ,\"year\":[2000,2001,2002,2001,2002,2003],\n",
    "     \"pop\":[1.4,1.8,1.2,3.8,3.9,2.9]}\n",
    "res=pd.DataFrame(data)\n",
    "print(res.head())"
   ]
  },
  {
   "cell_type": "code",
   "execution_count": 31,
   "id": "5854b29b-6042-4b56-b3a0-1f6f08dc6b89",
   "metadata": {},
   "outputs": [
    {
     "name": "stdout",
     "output_type": "stream",
     "text": [
      "    state  year  pop\n",
      "1    Ohio  2001  1.8\n",
      "2    Ohio  2002  1.2\n",
      "3  Nevada  2001  3.8\n",
      "4  Nevada  2002  3.9\n",
      "5  Nevada  2003  2.9\n"
     ]
    }
   ],
   "source": [
    "#tail(): in this the tail method selects only last five rows of the data\n",
    "import pandas as pd\n",
    "data={\"state\":[\"Ohio\",\"Ohio\",\"Ohio\",\"Nevada\",\"Nevada\",\"Nevada\"]\n",
    "     ,\"year\":[2000,2001,2002,2001,2002,2003],\n",
    "     \"pop\":[1.4,1.8,1.2,3.8,3.9,2.9]}\n",
    "res=pd.DataFrame(data)\n",
    "print(res.tail())"
   ]
  },
  {
   "cell_type": "code",
   "execution_count": 33,
   "id": "b732971c-dc4f-4cc2-8c53-57f26cd2496a",
   "metadata": {},
   "outputs": [
    {
     "name": "stdout",
     "output_type": "stream",
     "text": [
      "   year   state  pop\n",
      "0  2000    Ohio  1.4\n",
      "1  2001    Ohio  1.8\n",
      "2  2002    Ohio  1.2\n",
      "3  2001  Nevada  3.8\n",
      "4  2002  Nevada  3.9\n",
      "5  2003  Nevada  2.9\n"
     ]
    }
   ],
   "source": [
    "# if you specify the columns it will be the rearranged.\n",
    "# columns..\n",
    "import pandas as pd\n",
    "data={\"state\":[\"Ohio\",\"Ohio\",\"Ohio\",\"Nevada\",\"Nevada\",\"Nevada\"]\n",
    "     ,\"year\":[2000,2001,2002,2001,2002,2003],\n",
    "     \"pop\":[1.4,1.8,1.2,3.8,3.9,2.9]}\n",
    "res=pd.DataFrame(data,columns=['year','state','pop'])\n",
    "print(res)"
   ]
  },
  {
   "cell_type": "code",
   "execution_count": 34,
   "id": "4a819a37-e018-45c0-915c-5c7252b9bb2d",
   "metadata": {},
   "outputs": [
    {
     "name": "stdout",
     "output_type": "stream",
     "text": [
      "   year   state  pop debt\n",
      "0  2000    Ohio  1.4  NaN\n",
      "1  2001    Ohio  1.8  NaN\n",
      "2  2002    Ohio  1.2  NaN\n",
      "3  2001  Nevada  3.8  NaN\n",
      "4  2002  Nevada  3.9  NaN\n",
      "5  2003  Nevada  2.9  NaN\n"
     ]
    }
   ],
   "source": [
    "# if you specify the any column .That is not present in dictionary.The values of the column will be displayed\n",
    "import pandas as pd\n",
    "data={\"state\":[\"Ohio\",\"Ohio\",\"Ohio\",\"Nevada\",\"Nevada\",\"Nevada\"]\n",
    "     ,\"year\":[2000,2001,2002,2001,2002,2003],\n",
    "     \"pop\":[1.4,1.8,1.2,3.8,3.9,2.9]}\n",
    "res=pd.DataFrame(data,columns=['year','state','pop','debt'])\n",
    "print(res)"
   ]
  },
  {
   "cell_type": "code",
   "execution_count": 36,
   "id": "0c083352-237f-481b-8f73-03a6aa7abb56",
   "metadata": {},
   "outputs": [
    {
     "name": "stdout",
     "output_type": "stream",
     "text": [
      "0      Ohio\n",
      "1      Ohio\n",
      "2      Ohio\n",
      "3    Nevada\n",
      "4    Nevada\n",
      "5    Nevada\n",
      "Name: state, dtype: object\n"
     ]
    }
   ],
   "source": [
    "# we can also acces the particular column\n",
    "import pandas as pd\n",
    "data={\"state\":[\"Ohio\",\"Ohio\",\"Ohio\",\"Nevada\",\"Nevada\",\"Nevada\"]\n",
    "     ,\"year\":[2000,2001,2002,2001,2002,2003],\n",
    "     \"pop\":[1.4,1.8,1.2,3.8,3.9,2.9]}\n",
    "res=pd.DataFrame(data,columns=['year','state','pop'])\n",
    "print(res['state'])"
   ]
  },
  {
   "cell_type": "code",
   "execution_count": 41,
   "id": "4353adcb-549f-4a9c-8c95-21516a53a105",
   "metadata": {},
   "outputs": [
    {
     "name": "stdout",
     "output_type": "stream",
     "text": [
      "   year   state  pop debt  dept\n",
      "0  2000    Ohio  1.4  NaN    90\n",
      "1  2001    Ohio  1.8  NaN    90\n",
      "2  2002    Ohio  1.2  NaN    90\n",
      "3  2001  Nevada  3.8  NaN    90\n",
      "4  2002  Nevada  3.9  NaN    90\n",
      "5  2003  Nevada  2.9  NaN    90\n"
     ]
    }
   ],
   "source": [
    "# we can also print the empty column to fill the data\n",
    "import pandas as pd\n",
    "data={\"state\":[\"Ohio\",\"Ohio\",\"Ohio\",\"Nevada\",\"Nevada\",\"Nevada\"]\n",
    "     ,\"year\":[2000,2001,2002,2001,2002,2003],\n",
    "     \"pop\":[1.4,1.8,1.2,3.8,3.9,2.9]}\n",
    "res=pd.DataFrame(data,columns=['year','state','pop','debt'])\n",
    "res['dept']=90\n",
    "print(res)\n"
   ]
  },
  {
   "cell_type": "code",
   "execution_count": null,
   "id": "92dafe36-d21f-4038-8deb-3357aab82aa0",
   "metadata": {},
   "outputs": [],
   "source": []
  }
 ],
 "metadata": {
  "kernelspec": {
   "display_name": "Python 3 (ipykernel)",
   "language": "python",
   "name": "python3"
  },
  "language_info": {
   "codemirror_mode": {
    "name": "ipython",
    "version": 3
   },
   "file_extension": ".py",
   "mimetype": "text/x-python",
   "name": "python",
   "nbconvert_exporter": "python",
   "pygments_lexer": "ipython3",
   "version": "3.13.2"
  }
 },
 "nbformat": 4,
 "nbformat_minor": 5
}
