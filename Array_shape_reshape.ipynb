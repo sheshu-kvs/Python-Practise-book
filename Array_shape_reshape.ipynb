{
 "cells": [
  {
   "cell_type": "code",
   "execution_count": 4,
   "id": "80709e2c-0e7d-47e7-a020-b89f8e7227ab",
   "metadata": {},
   "outputs": [
    {
     "name": "stdout",
     "output_type": "stream",
     "text": [
      "(2, 3)\n",
      "Dimension of the array: 2\n"
     ]
    }
   ],
   "source": [
    "# Shape :which means the number of the elements in each dimension\n",
    "# in this we are using the shape keyword to determine the dimension of the array\n",
    "import numpy as np\n",
    "res=np.array([[1,2,3],[2,3,3]])\n",
    "print(res.shape)\n",
    "print(\"Dimension of the array:\",res.ndim)"
   ]
  },
  {
   "cell_type": "code",
   "execution_count": 13,
   "id": "197970f8-312d-4eb5-af60-c85233189359",
   "metadata": {},
   "outputs": [
    {
     "name": "stdout",
     "output_type": "stream",
     "text": [
      "[[[[[1 2 3 4]]]]]\n",
      "(1, 1, 1, 1, 4)\n",
      "5\n"
     ]
    }
   ],
   "source": [
    "# creating the array with the 5 dimensions using the ndmin\n",
    "import numpy as np\n",
    "res=np.array([1,2,3,4] ,ndmin=5)\n",
    "print(res)\n",
    "print(res.shape)\n",
    "print(res.ndim)\n"
   ]
  },
  {
   "cell_type": "code",
   "execution_count": 26,
   "id": "bfb4659b-d682-40f8-8a82-79e07822760b",
   "metadata": {},
   "outputs": [
    {
     "name": "stdout",
     "output_type": "stream",
     "text": [
      "[[1 2 3]\n",
      " [2 3 3]]\n"
     ]
    }
   ],
   "source": [
    "# reshape : changing the shape of the array using the reshape\n",
    "import numpy as np\n",
    "res=np.array([[1,2,3],[2,3,3]])\n",
    "# r1=res.reshape(3,2)\n",
    "r1=res.reshape(2,3)\n",
    "print(r1)"
   ]
  },
  {
   "cell_type": "code",
   "execution_count": 34,
   "id": "379747a5-4b5a-4a9a-ad0c-e2d71cbc13b5",
   "metadata": {},
   "outputs": [
    {
     "name": "stdout",
     "output_type": "stream",
     "text": [
      "[ 0  1  2  3  4  5  6  7  8  9 10 11 12 13 14 15 16 17 18 19 20]\n",
      "[[ 0  1  2]\n",
      " [ 3  4  5]\n",
      " [ 6  7  8]\n",
      " [ 9 10 11]\n",
      " [12 13 14]\n",
      " [15 16 17]\n",
      " [18 19 20]]\n"
     ]
    }
   ],
   "source": [
    "import numpy as np\n",
    "res=np.arange(21)\n",
    "print(res)\n",
    "r1=res.reshape(7,3)\n",
    "print(r1)"
   ]
  },
  {
   "cell_type": "code",
   "execution_count": 38,
   "id": "77b85d91-5136-4190-b56a-5ec0db7b91fe",
   "metadata": {},
   "outputs": [
    {
     "name": "stdout",
     "output_type": "stream",
     "text": [
      "0\n",
      "1\n",
      "2\n",
      "3\n",
      "4\n",
      "5\n",
      "6\n",
      "7\n",
      "8\n",
      "9\n",
      "10\n",
      "11\n",
      "12\n",
      "13\n",
      "14\n",
      "15\n",
      "16\n",
      "17\n",
      "18\n",
      "19\n",
      "20\n"
     ]
    }
   ],
   "source": [
    "# iterating the array using the for loop\n",
    "\n",
    "import numpy as np\n",
    "res=np.arange(21)\n",
    "for i in res:\n",
    "    print(i)"
   ]
  },
  {
   "cell_type": "code",
   "execution_count": 50,
   "id": "12f56cf4-a067-4a60-b8dc-cae0a5493ced",
   "metadata": {},
   "outputs": [
    {
     "name": "stdout",
     "output_type": "stream",
     "text": [
      "[5 6 2 1]\n"
     ]
    }
   ],
   "source": [
    "# Sorting method in the array\n",
    "import numpy as np\n",
    "i=np.array([5,6,2,1])\n",
    "print(i)"
   ]
  },
  {
   "cell_type": "code",
   "execution_count": 54,
   "id": "ef4e447b-75fe-4733-b43a-c07b950d2a69",
   "metadata": {},
   "outputs": [
    {
     "name": "stdout",
     "output_type": "stream",
     "text": [
      "[[1 2]\n",
      " [3 4]\n",
      " [5 6]\n",
      " [7 8]]\n"
     ]
    }
   ],
   "source": [
    "import numpy as np\n",
    "\n",
    "arr1 = np.array([[1, 2], [3, 4]])\n",
    "\n",
    "arr2 = np.array([[5, 6], [7, 8]])\n",
    "\n",
    "# arr = np.concatenate((arr1, arr2), axis=0)\n",
    "arr = np.concatenate((arr1, arr2))\n",
    "arr.sort()\n",
    "\n",
    "\n",
    "print(arr)\n",
    "\n",
    "# print(arr)"
   ]
  },
  {
   "cell_type": "code",
   "execution_count": 57,
   "id": "0e95e876-0fce-4152-9b7a-f77dc42577bb",
   "metadata": {},
   "outputs": [
    {
     "name": "stdout",
     "output_type": "stream",
     "text": [
      "[[1 2]\n",
      " [3 4]\n",
      " [5 6]\n",
      " [7 8]]\n"
     ]
    }
   ],
   "source": [
    "# here the sort the values using the axis=0: the number of the column must match,axis=1: the number of the row must match\n",
    "\n",
    "\n",
    "import numpy as np\n",
    "\n",
    "arr1 = np.array([[1, 2], [3, 4]])\n",
    "\n",
    "arr2 = np.array([[5, 6], [7, 8]])\n",
    "\n",
    "arr = np.concatenate((arr1, arr2), axis=0)\n",
    "# arr = np.concatenate(arr1, arr2)\n",
    "arr.sort()\n",
    "\n",
    "\n",
    "print(arr)\n",
    "\n",
    "# print(arr)"
   ]
  },
  {
   "cell_type": "code",
   "execution_count": 62,
   "id": "fdba50ae-68b0-4d84-a3a6-a3e23005f688",
   "metadata": {},
   "outputs": [
    {
     "name": "stdout",
     "output_type": "stream",
     "text": [
      "[[12  2  5  6]\n",
      " [ 3  4  7  8]]\n"
     ]
    }
   ],
   "source": [
    "import numpy as np\n",
    "\n",
    "arr1 = np.array([[12, 2], [3, 4]])\n",
    "\n",
    "arr2 = np.array([[5, 6], [7, 8]])\n",
    "\n",
    "arr = np.concatenate((arr1, arr2), axis=1)\n",
    "\n",
    "\n",
    "\n",
    "print(arr)"
   ]
  },
  {
   "cell_type": "code",
   "execution_count": 66,
   "id": "b973c006-6f45-4e25-89ba-9bfbcc034062",
   "metadata": {},
   "outputs": [
    {
     "name": "stdout",
     "output_type": "stream",
     "text": [
      "['alin' 'bob' 'marley' 'rorke' 'venisa' 'xylan' 'zenila']\n"
     ]
    }
   ],
   "source": [
    "# eliminat duplicat names.using the unique\n",
    "\n",
    "import numpy as np\n",
    "r=np.array(['zenila','xylan','rorke','venisa','alin','bob','alin','bob','alin','bob','marley'])\n",
    "s=np.unique(r)\n",
    "# sort the values with the alphabets...\n",
    "print(s)\n"
   ]
  },
  {
   "cell_type": "code",
   "execution_count": 67,
   "id": "d28dc941-2ed4-4dda-831c-d0f88339adb0",
   "metadata": {},
   "outputs": [
    {
     "name": "stdout",
     "output_type": "stream",
     "text": [
      "[  1   2   3   4   5   6  10  11  12  22  33 120]\n"
     ]
    }
   ],
   "source": [
    "# eliminat duplicat numbers. \n",
    "\n",
    "import numpy as np\n",
    "r=np.array([10,120,12,12,12,12,4,3,3,33,2,22,22,1,11,1,11,10,10,10,5,5,5,6,6,6,3,3,3,22,22])\n",
    "s=np.unique(r)\n",
    "# sort the values with the numbers...\n",
    "print(s)"
   ]
  },
  {
   "cell_type": "code",
   "execution_count": null,
   "id": "62418711-f536-4020-9cd3-f07563ddb9ce",
   "metadata": {},
   "outputs": [],
   "source": []
  }
 ],
 "metadata": {
  "kernelspec": {
   "display_name": "Python 3 (ipykernel)",
   "language": "python",
   "name": "python3"
  },
  "language_info": {
   "codemirror_mode": {
    "name": "ipython",
    "version": 3
   },
   "file_extension": ".py",
   "mimetype": "text/x-python",
   "name": "python",
   "nbconvert_exporter": "python",
   "pygments_lexer": "ipython3",
   "version": "3.13.2"
  }
 },
 "nbformat": 4,
 "nbformat_minor": 5
}
