{
 "cells": [
  {
   "cell_type": "code",
   "execution_count": 4,
   "id": "96524900-71fd-4f98-9747-de73511ef45d",
   "metadata": {},
   "outputs": [],
   "source": [
    "# Dictionary is the collection of the values it stor the values in the form of the key value pairs \n",
    "# in the dictionary duplicate values are not allowed .\n",
    "# it is declared as the {}"
   ]
  },
  {
   "cell_type": "code",
   "execution_count": 44,
   "id": "b63529bb-d7a4-4f39-8b6c-b7d515df0360",
   "metadata": {},
   "outputs": [
    {
     "name": "stdout",
     "output_type": "stream",
     "text": [
      "{'name': 'stella', 'age': 24, 'dept': 'agri'}\n",
      "stella\n",
      "24\n",
      "agri\n"
     ]
    }
   ],
   "source": [
    "a={'name':\"stella\",\n",
    "  'age':24,\n",
    "  'dept':\"agri\"}\n",
    "print(a)\n",
    "print(a[\"name\"])\n",
    "print(a[\"age\"])\n",
    "print(a[\"dept\"])"
   ]
  },
  {
   "cell_type": "code",
   "execution_count": 22,
   "id": "6638daf5-47ab-4a19-a234-81f8df6c5037",
   "metadata": {},
   "outputs": [
    {
     "name": "stdout",
     "output_type": "stream",
     "text": [
      "some values.\n",
      "[1, 2, 3, 4]\n",
      "['a', 34]\n",
      "dict_keys(['a', 'b', 'c'])\n",
      "dict_values(['some values.', [1, 2, 3, 4], ['a', 34]])\n"
     ]
    }
   ],
   "source": [
    "d1={'a':\"some values.\",'b':[1,2,3,4],'c':['a',34]}\n",
    "print(d1[\"a\"])\n",
    "print(d1[\"b\"])\n",
    "print(d1[\"c\"])\n",
    "\n",
    "# we can print the keys and values\n",
    "print(d1.keys())\n",
    "print(d1.values())"
   ]
  },
  {
   "cell_type": "code",
   "execution_count": 43,
   "id": "9e39485b-f436-4b33-9658-e17c39bdd6b8",
   "metadata": {},
   "outputs": [
    {
     "name": "stdout",
     "output_type": "stream",
     "text": [
      "some values.\n",
      "{'b': [1, 2, 3, 4], 'c': ['a', 34]}\n",
      "{'b': [1, 2, 3, 4], 'c': ['a', 34]}\n",
      "[1, 2, 3, 4]\n",
      "['a', 34]\n"
     ]
    }
   ],
   "source": [
    "# you can delete the values using the  pop keyword\n",
    "d1={'a':\"some values.\",'b':[1,2,3,4],'c':['a',34]}\n",
    "print(d1.pop(\"a\"))\n",
    "print(d1)\n",
    "\n",
    "print(d1)\n",
    "print(d1[\"b\"])\n",
    "print(d1[\"c\"])"
   ]
  },
  {
   "cell_type": "code",
   "execution_count": 28,
   "id": "e3fd7fd2-06e0-48a1-b5c6-c1e64c13eaee",
   "metadata": {},
   "outputs": [
    {
     "name": "stdout",
     "output_type": "stream",
     "text": [
      "{'a': ['apple'], 'b': ['ball'], 'A': ['Alex'], 'r': ['rolex'], 's': ['selva', 'sevin'], 'k': ['kevin', 'kerlomax']}\n"
     ]
    }
   ],
   "source": [
    "# Example of the dictionary...\n",
    "\n",
    "words=['apple','ball','Alex','rolex','selva','sevin','kevin','kerlomax']\n",
    "by_lettar={}\n",
    "for word in words:\n",
    "    lettar=word[0]\n",
    "    if lettar not in by_lettar:\n",
    "        by_lettar[lettar]=[word]\n",
    "    else:\n",
    "        by_lettar[lettar].append(word)\n",
    "print(by_lettar)"
   ]
  },
  {
   "cell_type": "code",
   "execution_count": 31,
   "id": "2d68db01-83c5-4547-8d27-979ab49888d9",
   "metadata": {},
   "outputs": [
    {
     "name": "stdout",
     "output_type": "stream",
     "text": [
      "{1, 2, 3}\n",
      "{5, 6, 7}\n"
     ]
    }
   ],
   "source": [
    "# A Set is the collection of the unique elements it  will not allow the duplicate  values..\n",
    "# and the elements are not in the ordered\n",
    "# it is declared as the {}\n",
    "\n",
    "a={1,2,3}\n",
    "b={5,6,7}\n",
    "print(a)\n",
    "print(b)"
   ]
  },
  {
   "cell_type": "code",
   "execution_count": 42,
   "id": "5b738a6d-76c8-4695-af6e-be0f7e08accf",
   "metadata": {},
   "outputs": [
    {
     "name": "stdout",
     "output_type": "stream",
     "text": [
      "{1, 2, 3, 5, 6, 7}\n",
      "{1, 2, 3, 5, 6, 7}\n",
      "{1, 3}\n",
      "{1, 3}\n"
     ]
    }
   ],
   "source": [
    "# Set methods\n",
    "# to combine two sets we are using the\n",
    "# union and |\n",
    "# intersection we use the & or intersection method\n",
    "a={1,2,3}\n",
    "b={1,3,5,6,7}\n",
    "print(a.union(b))\n",
    "print(a|b)\n",
    "print(a & b)\n",
    "print(a.intersection(b))\n"
   ]
  },
  {
   "cell_type": "code",
   "execution_count": null,
   "id": "29bcbb04-3117-480f-9105-a7d143e22f22",
   "metadata": {},
   "outputs": [],
   "source": []
  }
 ],
 "metadata": {
  "kernelspec": {
   "display_name": "Python 3 (ipykernel)",
   "language": "python",
   "name": "python3"
  },
  "language_info": {
   "codemirror_mode": {
    "name": "ipython",
    "version": 3
   },
   "file_extension": ".py",
   "mimetype": "text/x-python",
   "name": "python",
   "nbconvert_exporter": "python",
   "pygments_lexer": "ipython3",
   "version": "3.13.2"
  }
 },
 "nbformat": 4,
 "nbformat_minor": 5
}
