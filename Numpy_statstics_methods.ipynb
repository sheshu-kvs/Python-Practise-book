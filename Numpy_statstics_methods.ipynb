{
 "cells": [
  {
   "cell_type": "code",
   "execution_count": 5,
   "id": "2b6c4199-2e1e-463d-856a-1fd8d380f51c",
   "metadata": {},
   "outputs": [
    {
     "name": "stdout",
     "output_type": "stream",
     "text": [
      "15\n",
      "1\n",
      "5\n",
      "3.0\n",
      "1.4142135623730951\n"
     ]
    }
   ],
   "source": [
    "# statstical methods in the array\n",
    "\n",
    "import numpy as np\n",
    "res=np.array([5,4,3,2,1])\n",
    "print(res.sum())\n",
    "print(res.min())\n",
    "print(res.max())\n",
    "print(res.mean())\n",
    "print(res.std())\n"
   ]
  },
  {
   "cell_type": "code",
   "execution_count": null,
   "id": "3f5bffd6-88d8-45b3-9a13-eac880646998",
   "metadata": {},
   "outputs": [],
   "source": []
  }
 ],
 "metadata": {
  "kernelspec": {
   "display_name": "Python 3 (ipykernel)",
   "language": "python",
   "name": "python3"
  },
  "language_info": {
   "codemirror_mode": {
    "name": "ipython",
    "version": 3
   },
   "file_extension": ".py",
   "mimetype": "text/x-python",
   "name": "python",
   "nbconvert_exporter": "python",
   "pygments_lexer": "ipython3",
   "version": "3.13.2"
  }
 },
 "nbformat": 4,
 "nbformat_minor": 5
}
