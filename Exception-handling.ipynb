{
 "cells": [
  {
   "cell_type": "code",
   "execution_count": 3,
   "id": "e6dd2e06-faac-406b-9046-8ba063b3fd33",
   "metadata": {},
   "outputs": [
    {
     "name": "stdout",
     "output_type": "stream",
     "text": [
      "please defin the value...\n"
     ]
    }
   ],
   "source": [
    "# Exception-Handling\n",
    "# when error occurs during execution of the python programme \n",
    "# to handle that errors we are using with the try and except\n",
    "\n",
    "\n",
    "\n",
    "# without the try and except\n",
    "\n",
    "# print(x)\n",
    "# here x is not defined...\n",
    "# so that we are using the try and except\n",
    "try:\n",
    "    print(x)\n",
    "except:\n",
    "    print(\"please defin the value of the x...\")\n",
    "\n",
    "\n",
    "\n",
    "# whenever the error occurs to handle that errors we are using with try and except\n",
    "\n",
    "    "
   ]
  },
  {
   "cell_type": "code",
   "execution_count": 26,
   "id": "eea089e2-02ea-44f7-9427-f5333b96b505",
   "metadata": {},
   "outputs": [
    {
     "name": "stdout",
     "output_type": "stream",
     "text": [
      "Please enter a valid...\n",
      "Good morning\n"
     ]
    }
   ],
   "source": [
    "\n",
    "try:\n",
    "    a=10\n",
    "    b=0\n",
    "    print(a/b)\n",
    "except:\n",
    "    print(\"Please enter a valid...\")\n",
    "finally:\n",
    "    print(\"Good morning\")\n",
    "\n",
    "\n",
    "# here the value  throws an error  so that the o/p  throws an exception that is except block is the printed\n",
    "# we need to bserve there is the finally block always excutes \n",
    "    \n",
    "\n",
    "\n",
    "    "
   ]
  },
  {
   "cell_type": "code",
   "execution_count": 21,
   "id": "b2032057-9c56-4024-8dee-25ee44f90697",
   "metadata": {},
   "outputs": [
    {
     "name": "stdout",
     "output_type": "stream",
     "text": [
      "Hello Good Morning...\n",
      "can you check once..\n"
     ]
    }
   ],
   "source": [
    "try:\n",
    "    print(\"Hello Good Morning...\")\n",
    "except:\n",
    "    print(\"Something went wrong..\")\n",
    "else:\n",
    "    print(\"can you check once..\")\n",
    "\n",
    "\n",
    "# here there is no error it will execute the try block and the else "
   ]
  },
  {
   "cell_type": "code",
   "execution_count": 39,
   "id": "54203519-0d33-4f3b-a00a-40d3d725eca5",
   "metadata": {},
   "outputs": [
    {
     "name": "stdout",
     "output_type": "stream",
     "text": [
      "please enter the valid file name..\n"
     ]
    }
   ],
   "source": [
    "try:\n",
    "    with open(\"file12.txt\") as f:\n",
    "       print(f.read())\n",
    "except:\n",
    "    print(\"please enter the valid file name..\")\n",
    "finally:\n",
    "    f.close();"
   ]
  },
  {
   "cell_type": "code",
   "execution_count": 45,
   "id": "f8f39f1c-4854-4d23-91a8-d5f389a80e8c",
   "metadata": {},
   "outputs": [
    {
     "name": "stdout",
     "output_type": "stream",
     "text": [
      "Alex123\n",
      "File handlind complete tq for your time..\n"
     ]
    }
   ],
   "source": [
    "\n",
    "try:\n",
    "   with open(\"file.txt\") as f:\n",
    "       print(f.read())\n",
    "except:\n",
    "    print(\"file not found..\")\n",
    "finally:\n",
    "    print(\"File handlind complete tq for your time..\")\n",
    "    "
   ]
  },
  {
   "cell_type": "code",
   "execution_count": null,
   "id": "2c9fec46-c046-48a4-942a-ef4b7b6f87ee",
   "metadata": {},
   "outputs": [],
   "source": []
  }
 ],
 "metadata": {
  "kernelspec": {
   "display_name": "Python 3 (ipykernel)",
   "language": "python",
   "name": "python3"
  },
  "language_info": {
   "codemirror_mode": {
    "name": "ipython",
    "version": 3
   },
   "file_extension": ".py",
   "mimetype": "text/x-python",
   "name": "python",
   "nbconvert_exporter": "python",
   "pygments_lexer": "ipython3",
   "version": "3.13.2"
  }
 },
 "nbformat": 4,
 "nbformat_minor": 5
}
