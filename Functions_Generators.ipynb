{
 "cells": [
  {
   "cell_type": "code",
   "execution_count": 20,
   "id": "0660183d-6052-4e44-a66c-a3e318dbf681",
   "metadata": {},
   "outputs": [
    {
     "name": "stdout",
     "output_type": "stream",
     "text": [
      "35\n",
      "Hello how are you!@\n"
     ]
    }
   ],
   "source": [
    "# ->Function : is a set of instruction are used to perform the specific task , with function we can reuse the code...\n",
    "# example\n",
    "def my_fun(x,y):\n",
    "    return x+y\n",
    "\n",
    "result=my_fun(10,25)\n",
    "\n",
    "print(result)\n",
    "\n",
    "\n",
    "# a function without the return keyword\n",
    "def my_fun1(msg):\n",
    "    msg=\"Hello how are you!@\"\n",
    "    print(msg)\n",
    "val=input(\"Enter the Name\")\n",
    "my_fun1(val)\n",
    "print(\"Your good name is:\",val)"
   ]
  },
  {
   "cell_type": "code",
   "execution_count": 32,
   "id": "c654f418-aef1-4371-ae49-6ff3588f23bf",
   "metadata": {},
   "outputs": [],
   "source": [
    "# Namespace,scope,local functions\n",
    "\n",
    "def fun1():\n",
    "    a = []\n",
    "    for i in range(5):\n",
    "        a.append(i)\n",
    "        \n",
    "        \n",
    "fun1()\n",
    "\n",
    "# when we call the fun1 a is appended all the values will be destroyed because the a[] vaiable is the local\n",
    "# it can be used within the function.. the appended values of the a will not be displayed.\n",
    "# to display the values we need decalre a[] as the global.. \n"
   ]
  },
  {
   "cell_type": "code",
   "execution_count": 51,
   "id": "74b12826-1c68-4383-b0a9-88003f87b50f",
   "metadata": {},
   "outputs": [
    {
     "data": {
      "text/plain": [
       "[0, 1, 2, 3, 4]"
      ]
     },
     "execution_count": 51,
     "metadata": {},
     "output_type": "execute_result"
    }
   ],
   "source": [
    "a = []\n",
    "def fun1():\n",
    "    for i in range(5):\n",
    "        a.append(i) \n",
    "        \n",
    "fun1()\n",
    "a\n",
    "\n",
    "\n",
    "# here the values of the a[] appended  will be displayed because we kept a has the outside the function\n"
   ]
  },
  {
   "cell_type": "code",
   "execution_count": 59,
   "id": "3c1dfc48-3b6c-434a-809a-1147ca18a27e",
   "metadata": {},
   "outputs": [
    {
     "name": "stdout",
     "output_type": "stream",
     "text": [
      "10\n",
      "90\n"
     ]
    }
   ],
   "source": [
    "# Namespace,scope,local functions\n",
    "# in ython there are the three namespace \n",
    "# ->Built-in namespace: in the python built-in namespace are the len(),print()\n",
    "# ->local namespace: this are used within the function\n",
    "# ->global namespace: this are decalred ouside the function we can use any where..\n",
    "\n",
    "\n",
    "# x=90   global \n",
    "def devan():\n",
    "    # y=10  local\n",
    "    print(y)\n",
    "\n",
    "    \n",
    "devan()\n",
    "\n",
    "# print(y)\n",
    "print(x)"
   ]
  },
  {
   "cell_type": "code",
   "execution_count": 63,
   "id": "1c138236-8c7f-4e19-811f-9aa4c1c558a1",
   "metadata": {},
   "outputs": [],
   "source": [
    "# returning the multiple values using function..\n",
    "\n",
    "def f():\n",
    "    a=10\n",
    "    b=20\n",
    "    c=30\n",
    "    return a,b,c\n",
    "\n",
    "    \n",
    "f()"
   ]
  },
  {
   "cell_type": "code",
   "execution_count": 85,
   "id": "211bb4b8-d9c8-472b-a45a-b892370a64e8",
   "metadata": {},
   "outputs": [
    {
     "name": "stdout",
     "output_type": "stream",
     "text": [
      "Alabama\n",
      "Geogrical\n",
      "Gerogia\n",
      "Florida\n",
      "south carolina\n",
      "west verginia\n"
     ]
    }
   ],
   "source": [
    "# to make the  data cleaning is difficult in other programmin languages. in python we need \n",
    "# to import the re regular expression..\n",
    "\n",
    "\n",
    "states=[\"  Alabama \",\"Geogrical!\",\"Gerogia\",\"Florida\",\"south carolina##\",\"west verginia\"]\n",
    "\n",
    "\n",
    "import re\n",
    "\n",
    "def clean_strings(strings):\n",
    "    result=[]\n",
    "    for value in strings:\n",
    "        value=value.strip(\" \")\n",
    "        value=re.sub(\"[!#?]\",\"\",value)\n",
    "        # print([value],end=\" \")\n",
    "        print(value)\n",
    "        \n",
    "        \n",
    "\n",
    "\n",
    "\n",
    "\n",
    "\n",
    "\n",
    "clean_strings(states)\n"
   ]
  },
  {
   "cell_type": "code",
   "execution_count": null,
   "id": "e2223880-5600-44ea-8adf-f7801d7b094c",
   "metadata": {},
   "outputs": [],
   "source": [
    "# Generator are used to the handle the large amount of the data without overloading the memory\n",
    "# it is also a special kind of the python function...\n",
    "# def count_cookies(jar_size):\n",
    "#     cookies = 0\n",
    "#     while cookies < jar_size:\n",
    "#         yield f\"🍪 #{cookies+1}\"  # Pauses here!\n",
    "#         cookies += 1\n",
    "#         # print(cookies)\n",
    "\n",
    "# # Let's use it\n",
    "# cookie_gen = count_cookies(3)\n",
    "# print(next(cookie_gen))  # 🍪 #1\n",
    "# print(next(cookie_gen))  # 🍪 #2\n",
    "# print(next(cookie_gen))  # 🍪 #3\n",
    "# print(next(cookie_gen))  # 🍪 #3\n",
    "\n",
    "# Next call would raise StopIteration (no more cookies!)\n",
    "\n",
    "\n",
    "\n",
    "def print1(num):\n",
    "    i=0\n",
    "    while i<num:\n",
    "        print(i)\n",
    "        i=i+1\n",
    "    \n",
    "\n",
    "\n",
    "val=print1(10)\n",
    "print(val)\n",
    "# print(val.__next__())"
   ]
  },
  {
   "cell_type": "code",
   "execution_count": null,
   "id": "420258b3-7a0b-425b-af6f-936006b3d04c",
   "metadata": {},
   "outputs": [],
   "source": []
  }
 ],
 "metadata": {
  "kernelspec": {
   "display_name": "Python 3 (ipykernel)",
   "language": "python",
   "name": "python3"
  },
  "language_info": {
   "codemirror_mode": {
    "name": "ipython",
    "version": 3
   },
   "file_extension": ".py",
   "mimetype": "text/x-python",
   "name": "python",
   "nbconvert_exporter": "python",
   "pygments_lexer": "ipython3",
   "version": "3.13.2"
  }
 },
 "nbformat": 4,
 "nbformat_minor": 5
}
