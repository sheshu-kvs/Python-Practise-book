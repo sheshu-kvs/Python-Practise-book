{
 "cells": [
  {
   "cell_type": "code",
   "execution_count": 1,
   "id": "3b81434b-bbcf-4f9a-b4d5-6a3256a3602a",
   "metadata": {},
   "outputs": [],
   "source": [
    "# Numpy is the python library used for the working the arrays.\n",
    "# Numpy is also called as the numerical python.\n",
    "# numpy are mainly used for the liner algebra,matrices,fourier transform\n",
    "# the numpy are used introduced by in the year 2005, travis oliphant..\n",
    "\n",
    "# to work wih numpy we need to import the numpy package\n",
    "# to install the numpy library we need to use the pip install numpy..\n",
    "\n"
   ]
  },
  {
   "cell_type": "code",
   "execution_count": 2,
   "id": "895ae736-091c-47e7-8ecb-5163a4b9cdaf",
   "metadata": {},
   "outputs": [],
   "source": [
    "# pip install numpy\n",
    "# !pip install numpy"
   ]
  },
  {
   "cell_type": "code",
   "execution_count": 3,
   "id": "25ce07f9-be45-447e-8695-bce48cf99f70",
   "metadata": {},
   "outputs": [
    {
     "name": "stdout",
     "output_type": "stream",
     "text": [
      "<class 'numpy.ndarray'>\n"
     ]
    }
   ],
   "source": [
    "import numpy as np\n",
    "r=np.array([1,2,3,4])\n",
    "print(type(r))"
   ]
  },
  {
   "cell_type": "code",
   "execution_count": 4,
   "id": "172c2045-6af6-4049-995d-6cfecc4aa6b5",
   "metadata": {},
   "outputs": [
    {
     "name": "stdout",
     "output_type": "stream",
     "text": [
      "<class 'float'>\n"
     ]
    }
   ],
   "source": [
    "r=12.5\n",
    "print(type(r))"
   ]
  },
  {
   "cell_type": "code",
   "execution_count": 5,
   "id": "9e83f51f-ce0a-40ab-a2a9-e03f1e40f961",
   "metadata": {},
   "outputs": [
    {
     "name": "stdout",
     "output_type": "stream",
     "text": [
      "[     0      1      2 ... 999997 999998 999999]\n"
     ]
    },
    {
     "name": "stderr",
     "output_type": "stream",
     "text": [
      "IOPub data rate exceeded.\n",
      "The Jupyter server will temporarily stop sending output\n",
      "to the client in order to avoid crashing it.\n",
      "To change this limit, set the config variable\n",
      "`--ServerApp.iopub_data_rate_limit`.\n",
      "\n",
      "Current values:\n",
      "ServerApp.iopub_data_rate_limit=1000000.0 (bytes/sec)\n",
      "ServerApp.rate_limit_window=3.0 (secs)\n",
      "\n"
     ]
    }
   ],
   "source": [
    "# when we use the list it not handle the that much data,it is bettar to choose the numpy as it handle the wast \n",
    "# amount of the data \n",
    "# note:arange is the built in the range like it can ndarray..\n",
    "import numpy as np\n",
    "r=np.arange(1000000)\n",
    "p=list(range(1000000))\n",
    "print(r)\n",
    "print(p)\n"
   ]
  },
  {
   "cell_type": "code",
   "execution_count": 6,
   "id": "128f434d-409d-4bf4-bd40-6f0211c212b7",
   "metadata": {},
   "outputs": [
    {
     "name": "stdout",
     "output_type": "stream",
     "text": [
      "[[  1   4   9]\n",
      " [ 16  25 100]]\n"
     ]
    }
   ],
   "source": [
    "# conside an example of the numpy\n",
    "import numpy as np\n",
    "r=np.array([[1,2,3],[4,5,10]])\n",
    "print(r*r)\n",
    "# square of all the values...\n"
   ]
  },
  {
   "cell_type": "code",
   "execution_count": 7,
   "id": "eb86270e-cad3-4121-8624-789f45ef6f84",
   "metadata": {},
   "outputs": [
    {
     "name": "stdout",
     "output_type": "stream",
     "text": [
      "dimension of the array(rows): 1\n",
      "shape of the array: (5,)\n"
     ]
    }
   ],
   "source": [
    "# to create with the array..\n",
    "\n",
    "# creating the ndarray\n",
    "# to create the we use the array function\n",
    "# to find out the dimension of the we need to use the ndim\n",
    "# to find out the shape we can use the shape\n",
    "import numpy as np\n",
    "data=[6,7.5,8,0,1]\n",
    "r=np.array(data)\n",
    "print(\"dimension of the array(rows):\",r.ndim)\n",
    "print(\"shape of the array:\",r.shape)\n"
   ]
  },
  {
   "cell_type": "code",
   "execution_count": 8,
   "id": "49d3d603-aaba-4f25-b745-c1b8d8a24c49",
   "metadata": {},
   "outputs": [
    {
     "name": "stdout",
     "output_type": "stream",
     "text": [
      "Dimension of the array is(rows): 2\n",
      "shape of the array: (2, 3)\n"
     ]
    }
   ],
   "source": [
    "# creatting the two dimensional array\n",
    "import numpy as np\n",
    "r=np.array([[1,2,4],[19,23,4]])\n",
    "print(\"Dimension of the array is(rows):\",r.ndim)\n",
    "print(\"shape of the array:\",r.shape)"
   ]
  },
  {
   "cell_type": "code",
   "execution_count": 9,
   "id": "728aa7b0-677c-40d5-87fa-a1b18a016de5",
   "metadata": {},
   "outputs": [
    {
     "name": "stdout",
     "output_type": "stream",
     "text": [
      "Dimension of the array is(rows): 2\n",
      "shape of the array: (3, 3)\n"
     ]
    }
   ],
   "source": [
    "# creating the 3 d array(3X3 i,e 3 rows and the 3 columns)\n",
    "import numpy as np\n",
    "r=np.array([[1,2,4],[19,23,4],[12,3,4]])\n",
    "print(\"Dimension of the array is(rows):\",r.ndim)\n",
    "print(\"shape of the array:\",r.shape)"
   ]
  },
  {
   "cell_type": "code",
   "execution_count": 10,
   "id": "d3ecc3e2-143c-4731-b749-b8e7ddf3a6d2",
   "metadata": {},
   "outputs": [
    {
     "name": "stdout",
     "output_type": "stream",
     "text": [
      "[0. 0. 0. 0. 0. 0. 0. 0. 0. 0.]\n",
      "[[0. 0. 0. 0.]\n",
      " [0. 0. 0. 0.]\n",
      " [0. 0. 0. 0.]\n",
      " [0. 0. 0. 0.]\n",
      " [0. 0. 0. 0.]\n",
      " [0. 0. 0. 0.]\n",
      " [0. 0. 0. 0.]\n",
      " [0. 0. 0. 0.]\n",
      " [0. 0. 0. 0.]\n",
      " [0. 0. 0. 0.]]\n"
     ]
    }
   ],
   "source": [
    "# like other methods of the numpy\n",
    "# zeros:creating the the array with zeros\n",
    "# ones:creating the the array with ones\n",
    "# empty: creatin the array with empty\n",
    "\n",
    "import numpy as np\n",
    "r=np.zeros(10)\n",
    "r1=np.zeros((10,4))\n",
    "print(r)\n",
    "print(r1)"
   ]
  },
  {
   "cell_type": "code",
   "execution_count": 11,
   "id": "3df1a21a-9a67-4331-9cc1-85ee26da001d",
   "metadata": {},
   "outputs": [
    {
     "name": "stdout",
     "output_type": "stream",
     "text": [
      "[1. 1. 1. 1. 1. 1. 1. 1. 1. 1.]\n",
      "[[1. 1. 1. 1.]\n",
      " [1. 1. 1. 1.]\n",
      " [1. 1. 1. 1.]\n",
      " [1. 1. 1. 1.]\n",
      " [1. 1. 1. 1.]\n",
      " [1. 1. 1. 1.]\n",
      " [1. 1. 1. 1.]\n",
      " [1. 1. 1. 1.]\n",
      " [1. 1. 1. 1.]\n",
      " [1. 1. 1. 1.]]\n"
     ]
    }
   ],
   "source": [
    "# creating with ones\n",
    "import numpy as np\n",
    "r=np.ones(10)\n",
    "r1=np.ones((10,4))\n",
    "print(r)\n",
    "print(r1)"
   ]
  },
  {
   "cell_type": "code",
   "execution_count": 12,
   "id": "e8cb177a-b26b-4d52-bbf2-1e981d679718",
   "metadata": {},
   "outputs": [
    {
     "name": "stdout",
     "output_type": "stream",
     "text": [
      "[1. 1. 1. 1. 1. 1. 1. 1. 1. 1.]\n",
      "[[1. 1. 1. 1.]\n",
      " [1. 1. 1. 1.]\n",
      " [1. 1. 1. 1.]\n",
      " [1. 1. 1. 1.]\n",
      " [1. 1. 1. 1.]\n",
      " [1. 1. 1. 1.]\n",
      " [1. 1. 1. 1.]\n",
      " [1. 1. 1. 1.]\n",
      " [1. 1. 1. 1.]\n",
      " [1. 1. 1. 1.]]\n"
     ]
    }
   ],
   "source": [
    "# creating with the empty\n",
    "import numpy as np\n",
    "r=np.empty(10)\n",
    "r1=np.empty((10,4))\n",
    "print(r)\n",
    "print(r1)"
   ]
  },
  {
   "cell_type": "code",
   "execution_count": 13,
   "id": "ac815f10-97f0-434f-8111-1569c4868e61",
   "metadata": {},
   "outputs": [
    {
     "name": "stdout",
     "output_type": "stream",
     "text": [
      "[[[1.03974073e-311 2.81617418e-322]\n",
      "  [0.00000000e+000 0.00000000e+000]\n",
      "  [1.44635488e-307 1.58817677e-052]]\n",
      "\n",
      " [[7.11819573e-091 5.99520915e-066]\n",
      "  [8.26440405e-072 9.41708875e-047]\n",
      "  [6.48224659e+170 4.93432906e+257]]]\n"
     ]
    }
   ],
   "source": [
    "import numpy as np\n",
    "r=np.empty((2,3,2))\n",
    "print(r)\n"
   ]
  },
  {
   "cell_type": "code",
   "execution_count": 14,
   "id": "d28278d9-4919-4e63-820c-3cd7d282651f",
   "metadata": {},
   "outputs": [
    {
     "name": "stdout",
     "output_type": "stream",
     "text": [
      "Addition: [[ 2  4  8]\n",
      " [38 46  8]]Substraction: [[0 0 0]\n",
      " [0 0 0]]Multiplication: [[  1   4  16]\n",
      " [361 529  16]]Division: [[1. 1. 1.]\n",
      " [1. 1. 1.]]romving the fractional part.. [[1 1 1]\n",
      " [1 1 1]]"
     ]
    }
   ],
   "source": [
    "# airthematic using the arrays...\n",
    "import numpy as np\n",
    "r=np.array([[1,2,4],[19,23,4]])\n",
    "print(\"Addition:\",r+r,end=\"\")\n",
    "\n",
    "\n",
    "print(\"Substraction:\",r-r,end=\"\")\n",
    "\n",
    "\n",
    "\n",
    "print(\"Multiplication:\",r*r,end=\"\")\n",
    "\n",
    "\n",
    "print(\"Division:\",r/r,end=\"\")\n",
    "\n",
    "\n",
    "print(\"romving the fractional part..\",r//r,end=\"\")"
   ]
  },
  {
   "cell_type": "code",
   "execution_count": 15,
   "id": "02316910-e83e-4faa-95f2-3b21d9900707",
   "metadata": {},
   "outputs": [
    {
     "name": "stdout",
     "output_type": "stream",
     "text": [
      "int64\n",
      "<U1\n",
      "float64\n"
     ]
    }
   ],
   "source": [
    "# numpy - Datatypes\n",
    "# to find the datatype we are using the (dtype)..\n",
    "\n",
    "\n",
    "\n",
    "import numpy as np\n",
    "r=np.array([1,2,3,4])\n",
    "s=np.array([\"a\",\"c\",\"d\"])\n",
    "r1=np.array([1.3,2.5,3.5,4.6])\n",
    "print(r.dtype)\n",
    "print(s.dtype)\n",
    "print(r1.dtype)"
   ]
  },
  {
   "cell_type": "code",
   "execution_count": 16,
   "id": "e3edc564-a1f5-4931-a72a-919a86543bc9",
   "metadata": {},
   "outputs": [
    {
     "name": "stdout",
     "output_type": "stream",
     "text": [
      "[b'1' b'2' b'3' b'4']\n"
     ]
    }
   ],
   "source": [
    "# creating the arrays with defined datatypes\n",
    "import numpy as np\n",
    "r=np.array([1,2,3,4],dtype='S')\n",
    "print(r)"
   ]
  },
  {
   "cell_type": "code",
   "execution_count": 17,
   "id": "a5166578-9d57-4023-97e7-6e35b8fac5a7",
   "metadata": {},
   "outputs": [
    {
     "name": "stdout",
     "output_type": "stream",
     "text": [
      "[1 2 3 4]\n",
      "[1. 2. 3. 4.]\n",
      "[b'1' b'2' b'3' b'4']\n"
     ]
    }
   ],
   "source": [
    "# converting the float to integer,int to float,float to string\n",
    "# here using the method astype\n",
    "import numpy as np\n",
    "r=np.array([1.2,2.4,3.4,4.5])\n",
    "new_arr=r.astype('i');\n",
    "print(new_arr)\n",
    "p=new_arr.astype('f');\n",
    "print(p)\n",
    "e=new_arr.astype('S');\n",
    "print(e)"
   ]
  },
  {
   "cell_type": "code",
   "execution_count": null,
   "id": "f30d9d75-2852-443f-a89f-c710972ee011",
   "metadata": {},
   "outputs": [],
   "source": []
  }
 ],
 "metadata": {
  "kernelspec": {
   "display_name": "Python 3 (ipykernel)",
   "language": "python",
   "name": "python3"
  },
  "language_info": {
   "codemirror_mode": {
    "name": "ipython",
    "version": 3
   },
   "file_extension": ".py",
   "mimetype": "text/x-python",
   "name": "python",
   "nbconvert_exporter": "python",
   "pygments_lexer": "ipython3",
   "version": "3.13.2"
  }
 },
 "nbformat": 4,
 "nbformat_minor": 5
}
