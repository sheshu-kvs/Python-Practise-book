{
 "cells": [
  {
   "cell_type": "code",
   "execution_count": 1,
   "id": "deef0d63-7768-4697-9485-6236bc192a82",
   "metadata": {},
   "outputs": [],
   "source": [
    "# List is the collection of the elements, which is the muttable in nature, the elements are stored in the orderd , which allows the duplicates\n",
    "# which can nbe declared []"
   ]
  },
  {
   "cell_type": "code",
   "execution_count": 6,
   "id": "98c2382a-1cff-43db-96b5-48cf9e5efe7b",
   "metadata": {},
   "outputs": [
    {
     "name": "stdout",
     "output_type": "stream",
     "text": [
      "[1, 2, 4, 5, 6]\n",
      "[1, 2, 4, 5, 10]\n"
     ]
    }
   ],
   "source": [
    "# Examples\n",
    "l=[1,2,4,5,6]\n",
    "print(l)\n",
    "# muttable in the nature\n",
    "l[4]=10\n",
    "print(l)"
   ]
  },
  {
   "cell_type": "code",
   "execution_count": 7,
   "id": "be7ed103-ce98-4ed2-ba14-74369dbb3bbe",
   "metadata": {},
   "outputs": [
    {
     "name": "stdout",
     "output_type": "stream",
     "text": [
      "range(0, 20)\n",
      "[0, 1, 2, 3, 4, 5, 6, 7, 8, 9, 10, 11, 12, 13, 14, 15, 16, 17, 18, 19]\n"
     ]
    }
   ],
   "source": [
    "gen=range(20)\n",
    "print(gen)\n",
    "print(list(gen))"
   ]
  },
  {
   "cell_type": "code",
   "execution_count": 9,
   "id": "26b0f557-7738-4e8e-8b72-a4ac538c7cd9",
   "metadata": {},
   "outputs": [
    {
     "name": "stdout",
     "output_type": "stream",
     "text": [
      "['a', 'b', 'c']\n",
      "['a', 'Alex', 'c']\n"
     ]
    }
   ],
   "source": [
    "val=['a','b','c']\n",
    "print(val)\n",
    "val[1]=\"Alex\"\n",
    "print(val)"
   ]
  },
  {
   "cell_type": "code",
   "execution_count": 13,
   "id": "03fba5bf-f1c4-4ec1-91ce-57c62c7ceede",
   "metadata": {},
   "outputs": [
    {
     "name": "stdout",
     "output_type": "stream",
     "text": [
      "['q', 'r', 'e', 'Dvansh']\n",
      "['surya', 'q', 'r', 'e', 'Dvansh']\n"
     ]
    }
   ],
   "source": [
    "# By adding the list we can use two methods\n",
    "# append,insert\n",
    "\n",
    "# by using the append we add the elements end of the list\n",
    "# by using the insert we can add the elements at specified location\n",
    "val=['q','r','e']\n",
    "val.append(\"Dvansh\")\n",
    "print(val)\n",
    "val.insert(0,\"surya\")\n",
    "print(val)\n"
   ]
  },
  {
   "cell_type": "code",
   "execution_count": 17,
   "id": "0ac6b0d4-8731-4c5c-b668-387fd01212de",
   "metadata": {},
   "outputs": [
    {
     "name": "stdout",
     "output_type": "stream",
     "text": [
      "['q', 'e']\n",
      "[1, 2, 3]\n"
     ]
    }
   ],
   "source": [
    "# to remove the elements at specified location we need to use the pop,remove\n",
    "# pop are used to the index\n",
    "# remove are used to the elemnts\n",
    "val=['q','r','e']\n",
    "v=[1,2,3,4]\n",
    "val.pop(1)\n",
    "print(val)\n",
    "v.remove(4)\n",
    "print(v)"
   ]
  },
  {
   "cell_type": "code",
   "execution_count": 22,
   "id": "24ab4375-a8e6-4ef4-8e2b-f3de39d4c170",
   "metadata": {},
   "outputs": [
    {
     "name": "stdout",
     "output_type": "stream",
     "text": [
      "[1, 2, 3, 4, 7, 8, 9, 9, ('a', 'b')]\n"
     ]
    }
   ],
   "source": [
    "# if the list is already has the values,we can add the multiple values use the \n",
    "# extend\n",
    "l1=[1,2,3,4]\n",
    "l1.extend([7,8,9,9,('a','b')])\n",
    "print(l1)"
   ]
  },
  {
   "cell_type": "code",
   "execution_count": null,
   "id": "ff179764-0f6b-44a5-bfbe-782ae31d4015",
   "metadata": {},
   "outputs": [],
   "source": []
  }
 ],
 "metadata": {
  "kernelspec": {
   "display_name": "Python 3 (ipykernel)",
   "language": "python",
   "name": "python3"
  },
  "language_info": {
   "codemirror_mode": {
    "name": "ipython",
    "version": 3
   },
   "file_extension": ".py",
   "mimetype": "text/x-python",
   "name": "python",
   "nbconvert_exporter": "python",
   "pygments_lexer": "ipython3",
   "version": "3.13.2"
  }
 },
 "nbformat": 4,
 "nbformat_minor": 5
}
