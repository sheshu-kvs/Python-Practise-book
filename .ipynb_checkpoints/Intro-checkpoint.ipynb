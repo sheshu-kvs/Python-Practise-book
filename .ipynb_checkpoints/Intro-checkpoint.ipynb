{
 "cells": [
  {
   "cell_type": "code",
   "execution_count": 1,
   "id": "06ac09b7-0d70-4be0-be32-61e745a286a6",
   "metadata": {},
   "outputs": [
    {
     "name": "stdout",
     "output_type": "stream",
     "text": [
      "1\n",
      "2\n",
      "3\n",
      "4\n",
      "5\n",
      "6\n",
      "7\n",
      "8\n",
      "9\n"
     ]
    }
   ],
   "source": [
    "# python is the interpretd Language, the interpreter means executing a programme ,one statement at a time\n",
    "\n",
    "\n",
    "n=10\n",
    "for i in range(1,n):\n",
    "    print(i)"
   ]
  },
  {
   "cell_type": "code",
   "execution_count": 10,
   "id": "78c2bbe3-5a6d-4ebe-b89b-f83c8f4b6645",
   "metadata": {},
   "outputs": [
    {
     "name": "stdout",
     "output_type": "stream",
     "text": [
      "Alex\n"
     ]
    }
   ],
   "source": [
    "name=\"alex\"\n",
    "count=0\n",
    "print(name.capitalize())"
   ]
  },
  {
   "cell_type": "code",
   "execution_count": 18,
   "id": "7973f8cd-9407-4307-9103-402578b9588d",
   "metadata": {},
   "outputs": [
    {
     "name": "stdout",
     "output_type": "stream",
     "text": [
      "1.0\n"
     ]
    }
   ],
   "source": [
    "# /divide ,//divide and removes the fractional part...\n",
    "\n",
    "num1=16\n",
    "num2=16\n",
    "\n",
    "print(num1/num2)\n"
   ]
  },
  {
   "cell_type": "code",
   "execution_count": 25,
   "id": "c41384e2-c7d5-4896-bc30-febf597d0bfe",
   "metadata": {},
   "outputs": [
    {
     "name": "stdout",
     "output_type": "stream",
     "text": [
      "False\n",
      "True\n"
     ]
    }
   ],
   "source": [
    "# is and is not\n",
    "# return true if the objects are same...\n",
    "# return true if the objects are not same...\n",
    "\n",
    "\n",
    "a=\"giri\"\n",
    "b=\"se\"\n",
    "print(a is b)\n",
    "print(a is not b)"
   ]
  },
  {
   "cell_type": "code",
   "execution_count": 34,
   "id": "44abdc6e-8b25-4f3c-b8de-b8448edf288d",
   "metadata": {},
   "outputs": [
    {
     "name": "stdout",
     "output_type": "stream",
     "text": [
      "<class 'int'>\n",
      "<class 'str'>\n",
      "1.5\n",
      "1\n"
     ]
    }
   ],
   "source": [
    "# Scalar types \n",
    "# str:is the enclosed single quotes or the double quotes...\n",
    "# byte,float,bool,int\n",
    "\n",
    "\n",
    "ival=2239494\n",
    "print(type(ival))\n",
    "\n",
    "\n",
    "anem=\"Alex Jova\"\n",
    "print(type(anem))\n",
    "\n",
    "print(3/2)\n",
    "print(3//2)\n"
   ]
  },
  {
   "cell_type": "code",
   "execution_count": 46,
   "id": "2701daa8-f0f1-4582-ac8b-bd3bf45b1e91",
   "metadata": {},
   "outputs": [
    {
     "name": "stdout",
     "output_type": "stream",
     "text": [
      "2\n"
     ]
    }
   ],
   "source": [
    "# python srings are the immutable in nature so we canoot modify\n",
    "# 'singlo  quote' or \"doubleQuote\"..\\n is the new line...\n",
    "# '''multiline''' or same as\"\"\"Devil\"\"\"\n",
    "\n",
    "c=''' hello!  my self \n",
    "i from the united states\n",
    "i work on the softwares..'''\n",
    "print(c.count(\"\\n\"));    "
   ]
  },
  {
   "cell_type": "code",
   "execution_count": 45,
   "id": "bff5f2cb-192c-47b8-9876-4eb9ed9b6161",
   "metadata": {},
   "outputs": [
    {
     "name": "stdout",
     "output_type": "stream",
     "text": [
      "the first value is:1240,the secod value iss the31 total is the 40.0\n",
      "the first value is: 1240,the secod value is the: 31 total is the 40.00\n"
     ]
    }
   ],
   "source": [
    "a=1240\n",
    "b=31\n",
    "c=a/b\n",
    "\n",
    "print(f\"the first value is:{a},the secod value iss the{b} total is the {c:.1f}\")\n",
    "print(\"the first value is: %d,the secod value is the: %d total is the %.2f\"%(a,b,c))"
   ]
  },
  {
   "cell_type": "code",
   "execution_count": null,
   "id": "b66e0233-8926-4321-ba11-5e1f83cb5904",
   "metadata": {},
   "outputs": [],
   "source": [
    "# Bollean \n"
   ]
  }
 ],
 "metadata": {
  "kernelspec": {
   "display_name": "Python 3 (ipykernel)",
   "language": "python",
   "name": "python3"
  },
  "language_info": {
   "codemirror_mode": {
    "name": "ipython",
    "version": 3
   },
   "file_extension": ".py",
   "mimetype": "text/x-python",
   "name": "python",
   "nbconvert_exporter": "python",
   "pygments_lexer": "ipython3",
   "version": "3.13.2"
  }
 },
 "nbformat": 4,
 "nbformat_minor": 5
}
