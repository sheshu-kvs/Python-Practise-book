{
 "cells": [
  {
   "cell_type": "code",
   "execution_count": 8,
   "id": "50b2d089-edd4-4a4a-b28b-68216a7fcda4",
   "metadata": {},
   "outputs": [
    {
     "name": "stdout",
     "output_type": "stream",
     "text": [
      "odd: [ 2  4  6  8 10 12 14 16 18 20 22 24 26 28 30 32 34 36 38 40 42 44 46 48\n",
      " 50 52 54 56 58 60 62 64 66 68 70 72 74 76 78 80 82 84 86 88 90 92 94 96\n",
      " 98]\n"
     ]
    }
   ],
   "source": [
    "import numpy as np\n",
    "r=np.arange(2,100,2)\n",
    "print(\"odd:\",r)"
   ]
  },
  {
   "cell_type": "code",
   "execution_count": 16,
   "id": "93c9b2be-9cec-4e99-9a65-a1fca799384b",
   "metadata": {},
   "outputs": [
    {
     "name": "stdout",
     "output_type": "stream",
     "text": [
      "[0 1 2 3 4 5 6 7 8 9]\n",
      "[ 0  1  2  3  4 12 12 12  8  9]\n",
      "[ 0  1  2  3  4 12 99 12  8  9]\n",
      "[ 0  1  2  3  4 64 64 64  8  9]\n"
     ]
    }
   ],
   "source": [
    "import numpy as np\n",
    "r=np.arange(10)\n",
    "print(r)\n",
    "# print(r[5:8])  here start from the 5 end upto 7\n",
    "r[5:8]=12\n",
    "# the value of the 5 to 8 index has been changed  12\n",
    "print(r)\n",
    "arr_slice=r[5:8]\n",
    "# here storing the values from 5:8 with new value and index[1] of 99\n",
    "arr_slice[1]=99\n",
    "print(r)\n",
    "# [:] bare slice will asssign values to the array\n",
    "arr_slice[:]=64\n",
    "print(r)\n"
   ]
  },
  {
   "cell_type": "code",
   "execution_count": 33,
   "id": "ef80e4e2-90a2-4108-898f-a7ea0e23f899",
   "metadata": {},
   "outputs": [
    {
     "name": "stdout",
     "output_type": "stream",
     "text": [
      "2\n",
      "(3, 3)\n",
      "3\n"
     ]
    }
   ],
   "source": [
    "# will work on the 2d,3d arrays..\n",
    "import numpy as np\n",
    "r=np.array([[1,2,3],[4,5,6],[7,8,9]])\n",
    "# print(r)\n",
    "print(r.ndim)\n",
    "print(r.shape)\n",
    "# access the index using the slice\n",
    "# print(r[2])\n",
    "# print(r[0][2])\n",
    "# or we can also use the ,\n",
    "print(r[0,2])\n",
    "\n",
    "\n"
   ]
  },
  {
   "cell_type": "code",
   "execution_count": 36,
   "id": "38e5ec66-e0f0-42e2-ad30-4fa26f578037",
   "metadata": {},
   "outputs": [
    {
     "name": "stdout",
     "output_type": "stream",
     "text": [
      "[[1 2 3]\n",
      " [4 5 6]\n",
      " [7 8 9]]\n",
      "2\n",
      "(3, 3)\n"
     ]
    }
   ],
   "source": [
    "# working with the 2d and 3d\n",
    "# 3x3 for 2d 3 rows and 3 columns\n",
    "\n",
    "import numpy as np\n",
    "r=np.array([[1,2,3],[4,5,6],[7,8,9]])\n",
    "print(r)\n",
    "print(r.ndim)\n",
    "print(r.shape)"
   ]
  },
  {
   "cell_type": "code",
   "execution_count": 43,
   "id": "8c244bd5-c8fb-4a74-94fe-ba24db97c72a",
   "metadata": {},
   "outputs": [
    {
     "name": "stdout",
     "output_type": "stream",
     "text": [
      "[[[ 1  2  3]\n",
      "  [ 4  5  6]]\n",
      "\n",
      " [[ 7  8  9]\n",
      "  [10 12 11]]]\n",
      "3\n",
      "(2, 2, 3)\n"
     ]
    }
   ],
   "source": [
    "# 3d: layersXrowsXcolumns\n",
    "import numpy as np\n",
    "r=np.array([[[1,2,3],[4,5,6]],[[7,8,9],[10,12,11]]])\n",
    "print(r)\n",
    "print(r.ndim)\n",
    "print(r.shape)\n",
    "# 2X2X3 which means 2 layers ,2 rows 3 columns\n"
   ]
  },
  {
   "cell_type": "code",
   "execution_count": 1,
   "id": "1dc36514-6b38-452a-9856-ee86ca1ad305",
   "metadata": {},
   "outputs": [
    {
     "name": "stdout",
     "output_type": "stream",
     "text": [
      "['Alex' 'dev' 'suraj' 'sandesh']\n"
     ]
    }
   ],
   "source": [
    "# boolean indexing\n",
    "\n",
    "import numpy as np\n",
    "r=np.array(['Alex','dev','suraj','sandesh','Alex','dev'])\n",
    "x=[True,True,True,True,False,False]\n",
    "new_arr=r[x]\n",
    "print(new_arr)\n",
    "# it will return only the true values...\n"
   ]
  },
  {
   "cell_type": "code",
   "execution_count": 7,
   "id": "de1c6a73-843c-4825-aacf-b71fd5429c09",
   "metadata": {},
   "outputs": [
    {
     "name": "stdout",
     "output_type": "stream",
     "text": [
      "[0. 0. 0. 0.]\n",
      "[1. 1. 1. 1.]\n",
      "[2. 2. 2. 2.]\n",
      "[3. 3. 3. 3.]\n",
      "[4. 4. 4. 4.]\n",
      "[5. 5. 5. 5.]\n",
      "[6. 6. 6. 6.]\n",
      "[7. 7. 7. 7.]\n"
     ]
    }
   ],
   "source": [
    "import numpy as np\n",
    "r=np.zeros((8,4))\n",
    "for i in range(8):\n",
    "    r[i]=i\n",
    "    print(r[i])"
   ]
  },
  {
   "cell_type": "code",
   "execution_count": null,
   "id": "57ad4c3b-51d0-4a4e-b170-d991b1128cbb",
   "metadata": {},
   "outputs": [],
   "source": [
    "\n",
    "  "
   ]
  }
 ],
 "metadata": {
  "kernelspec": {
   "display_name": "Python 3 (ipykernel)",
   "language": "python",
   "name": "python3"
  },
  "language_info": {
   "codemirror_mode": {
    "name": "ipython",
    "version": 3
   },
   "file_extension": ".py",
   "mimetype": "text/x-python",
   "name": "python",
   "nbconvert_exporter": "python",
   "pygments_lexer": "ipython3",
   "version": "3.13.2"
  }
 },
 "nbformat": 4,
 "nbformat_minor": 5
}
