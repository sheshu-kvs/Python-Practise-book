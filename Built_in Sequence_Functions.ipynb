{
 "cells": [
  {
   "cell_type": "code",
   "execution_count": 2,
   "id": "ec30f332-0cec-4ff9-899f-ed5bbf326c56",
   "metadata": {},
   "outputs": [
    {
     "name": "stdout",
     "output_type": "stream",
     "text": [
      "4\n",
      "0 : 1\n",
      "1 : 2\n",
      "2 : 3\n",
      "3 : 4\n"
     ]
    }
   ],
   "source": [
    "# # Built in Sequence fuctions \n",
    "# #-> enumerate()\n",
    "# ->sorted()\n",
    "# ->zip()\n",
    "# ->reversed()\n",
    "\n",
    "\n",
    "# enumerate()\n",
    "# it is the common whenever you keep track of the index.\n",
    "l1=[1,2,3,4]\n",
    "idx=0\n",
    "for i in l1:\n",
    "    idx+=1\n",
    "print(idx)\n",
    "# so python has the built in fuction that is the enumerate\n",
    "# l1=[1,2,3,4]\n",
    "\n",
    "for index,value in enumerate(l1):\n",
    "    print(index,\":\",value)"
   ]
  },
  {
   "cell_type": "code",
   "execution_count": 4,
   "id": "4c2c5801-24f5-4a74-ab04-1bda8152b5b4",
   "metadata": {},
   "outputs": [
    {
     "data": {
      "text/plain": [
       "[1, 3, 4, 6, 9]"
      ]
     },
     "execution_count": 4,
     "metadata": {},
     "output_type": "execute_result"
    }
   ],
   "source": [
    "# sorted() it will return the new sorted list of the element\n",
    "# first tuple, list\n",
    "sorted([9,6,4,3,1])\n"
   ]
  },
  {
   "cell_type": "code",
   "execution_count": 8,
   "id": "50b6e783-1681-4f13-975e-57b3a7fb8dd5",
   "metadata": {},
   "outputs": [
    {
     "data": {
      "text/plain": [
       "[('hello', 'i am good'), ('how are u', 'who are u')]"
      ]
     },
     "execution_count": 8,
     "metadata": {},
     "output_type": "execute_result"
    }
   ],
   "source": [
    "# zip()\n",
    "# pairs up the elements  \n",
    "\n",
    "seq1=[\"hello\",\"how are u\"]\n",
    "seq2=[\"i am good\",\"who are u\"]\n",
    "zipped=zip(seq1,seq2)\n",
    "list(zipped)"
   ]
  },
  {
   "cell_type": "code",
   "execution_count": 9,
   "id": "3fdaf1d8-5e18-424e-a558-3dfa084d1499",
   "metadata": {},
   "outputs": [
    {
     "data": {
      "text/plain": [
       "[9, 8, 7, 6, 5, 4, 3, 2, 1, 0]"
      ]
     },
     "execution_count": 9,
     "metadata": {},
     "output_type": "execute_result"
    }
   ],
   "source": [
    "# reversed()\n",
    "# it will print the elements in reverse order\n",
    "list(reversed(range(10)))"
   ]
  },
  {
   "cell_type": "code",
   "execution_count": 12,
   "id": "6f125b41-292d-4d72-83cf-9e0df428eaef",
   "metadata": {},
   "outputs": [
    {
     "data": {
      "text/plain": [
       "['BAT', 'CAR', 'DOVE', 'PYTHON']"
      ]
     },
     "execution_count": 12,
     "metadata": {},
     "output_type": "execute_result"
    }
   ],
   "source": [
    "# List Comprehension are used to the create the new list and filter the particular list\n",
    "# Example in the below example we writing the if any word are greater than 2\n",
    "# we can make it as the capital words....\n",
    "strings=[\"a\",\"as\",\"bat\",\"car\",\"dove\",\"python\"]\n",
    "# print(len(strings))\n",
    "[x.upper() for x in strings if len(x)>2]"
   ]
  },
  {
   "cell_type": "code",
   "execution_count": 13,
   "id": "a35d7f28-ccfe-401f-a0d6-c9878e6aa106",
   "metadata": {},
   "outputs": [
    {
     "data": {
      "text/plain": [
       "{1, 2, 3, 4, 6}"
      ]
     },
     "execution_count": 13,
     "metadata": {},
     "output_type": "execute_result"
    }
   ],
   "source": [
    "# Set comprehension\n",
    "# Example for the length of the string\n",
    "strings=[\"a\",\"as\",\"bat\",\"car\",\"dove\",\"python\"]\n",
    "{len(x) for x in strings}"
   ]
  },
  {
   "cell_type": "code",
   "execution_count": 18,
   "id": "df408f4d-e0af-4d9d-92de-1ccf02abdb6e",
   "metadata": {},
   "outputs": [
    {
     "data": {
      "text/plain": [
       "{'a': 0, 'as': 1, 'bat': 2, 'car': 3, 'dove': 4, 'python': 5}"
      ]
     },
     "execution_count": 18,
     "metadata": {},
     "output_type": "execute_result"
    }
   ],
   "source": [
    "strings=[\"a\",\"as\",\"bat\",\"car\",\"dove\",\"python\"]\n",
    "# dictionary comprehension\n",
    "# it will print the index and the values in the strings... \n",
    "{value:index for index,value in enumerate(strings)}\n"
   ]
  },
  {
   "cell_type": "code",
   "execution_count": null,
   "id": "754cf450-059c-44c9-9bf9-caba4d5b4619",
   "metadata": {},
   "outputs": [],
   "source": []
  }
 ],
 "metadata": {
  "kernelspec": {
   "display_name": "Python 3 (ipykernel)",
   "language": "python",
   "name": "python3"
  },
  "language_info": {
   "codemirror_mode": {
    "name": "ipython",
    "version": 3
   },
   "file_extension": ".py",
   "mimetype": "text/x-python",
   "name": "python",
   "nbconvert_exporter": "python",
   "pygments_lexer": "ipython3",
   "version": "3.13.2"
  }
 },
 "nbformat": 4,
 "nbformat_minor": 5
}
